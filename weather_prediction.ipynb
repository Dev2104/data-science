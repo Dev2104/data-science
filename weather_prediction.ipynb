{
  "nbformat": 4,
  "nbformat_minor": 0,
  "metadata": {
    "colab": {
      "provenance": [],
      "include_colab_link": true
    },
    "kernelspec": {
      "name": "python3",
      "display_name": "Python 3"
    },
    "language_info": {
      "name": "python"
    }
  },
  "cells": [
    {
      "cell_type": "markdown",
      "metadata": {
        "id": "view-in-github",
        "colab_type": "text"
      },
      "source": [
        "<a href=\"https://colab.research.google.com/github/Dev2104/data-science/blob/main/weather_prediction.ipynb\" target=\"_parent\"><img src=\"https://colab.research.google.com/assets/colab-badge.svg\" alt=\"Open In Colab\"/></a>"
      ]
    },
    {
      "cell_type": "markdown",
      "source": [],
      "metadata": {
        "id": "vehVf2ALUHDJ"
      }
    },
    {
      "cell_type": "markdown",
      "source": [
        "Section 1: Import libraires"
      ],
      "metadata": {
        "id": "53WkqgsiUKNY"
      }
    },
    {
      "cell_type": "code",
      "source": [
        "import requests #helps to fatch data from API\n",
        "import pandas as pd #for handling and analysing data\n",
        "import numpy as np #for numerical operations\n",
        "from sklearn.model_selection import train_test_split #to split data into trainng and testing sets\n",
        "from sklearn.preprocessing import LabelEncoder #to convert catrgorical data into numerical values\n",
        "from sklearn.ensemble import RandomForestClassifier, RandomForestRegressor #models for classification and regression tasks\n",
        "from sklearn.metrics import mean_squared_error #to measure accurecy of prediction\n",
        "from datetime import datetime, timedelta #to handle date and time\n",
        "import pytz"
      ],
      "metadata": {
        "id": "HSDUlgGEUOvZ"
      },
      "execution_count": null,
      "outputs": []
    },
    {
      "cell_type": "code",
      "source": [
        "API_KEY = '7d13f891b95e1c47a78e6214d68b8e00' #my API key\n",
        "BASE_URL = 'https://api.openweathermap.org/data/2.5/' #base URL\n"
      ],
      "metadata": {
        "id": "gbNES2N0V0Xn"
      },
      "execution_count": null,
      "outputs": []
    },
    {
      "cell_type": "markdown",
      "source": [
        "1. Fetch current weather Data"
      ],
      "metadata": {
        "id": "HuQYKM-maAFb"
      }
    },
    {
      "cell_type": "code",
      "source": [
        "def get_current_weather(city):\n",
        "  url = f\"{BASE_URL}weather?q={city}&appid={API_KEY}&units=metric\"\n",
        "  response = requests.get(url) #get request to API\n",
        "  data  = response.json()\n",
        "  return{\n",
        "      'city' : data['name'],\n",
        "      'current_temp' : round(data['main']['temp']),\n",
        "      'feels_like' : round(data['main']['feels_like']),\n",
        "      'temp_min' : round(data['main']['temp_min']),\n",
        "      'temp_max' : round(data['main']['temp_max']),\n",
        "      'humidity' : round(data['main']['humidity']),\n",
        "      'description' :data['weather'][0]['description'],\n",
        "      'country' : data['sys']['country'],\n",
        "      'WindGustDir' : data['wind']['deg'],\n",
        "      'WindGustSpeed' : data['wind']['speed'],\n",
        "      'Pressure' : data['main']['pressure']\n",
        "\n",
        "\n",
        "  }"
      ],
      "metadata": {
        "id": "j_SAIuVfaDul"
      },
      "execution_count": null,
      "outputs": []
    },
    {
      "cell_type": "markdown",
      "source": [],
      "metadata": {
        "id": "UW8FDKmmZ9Rg"
      }
    },
    {
      "cell_type": "markdown",
      "source": [
        "2. read historical Data"
      ],
      "metadata": {
        "id": "7gTxsaw_qKXh"
      }
    },
    {
      "cell_type": "code",
      "source": [
        "def read_historical_data(filename):\n",
        "  df = pd.read_csv(filename) #load csv file into dataframe\n",
        "  df = df.drop_duplicates() # remove rows with missing values\n",
        "  return df"
      ],
      "metadata": {
        "id": "VXnSDbeQqOno"
      },
      "execution_count": null,
      "outputs": []
    },
    {
      "cell_type": "markdown",
      "source": [
        "3. Prepare data for training"
      ],
      "metadata": {
        "id": "yD8i2Ojlq8NA"
      }
    },
    {
      "cell_type": "code",
      "source": [
        "def prepare_data(data):\n",
        "  le = LabelEncoder() #crrate a labelencoder instance\n",
        "  data['WindGustDir'] = le.fit_transform(data['WindGustDir'])\n",
        "  data['RainTomorrow'] = le.fit_transform(data['RainTomorrow'])\n",
        "\n",
        "  #define the feature variables and target variables\n",
        "\n",
        "  X = data[['MinTemp','MaxTemp','WindGustDir','WindGustSpeed', 'Humidity', 'Pressure', 'Temp']] #feature variables\n",
        "  Y = data['RainTomorrow'] #target variable\n",
        "\n",
        "  return X, Y, le #return all the variables that are assigned\n"
      ],
      "metadata": {
        "id": "bKG7FmXUrASq"
      },
      "execution_count": null,
      "outputs": []
    },
    {
      "cell_type": "markdown",
      "source": [
        "4. Train rain prediction model"
      ],
      "metadata": {
        "id": "vfGx1EwDsyhc"
      }
    },
    {
      "cell_type": "code",
      "source": [
        "def train_rain_model(X, Y):\n",
        "  X_train, X_test, Y_train, Y_test = train_test_split(X, Y, test_size=0.2, random_state=42)\n",
        "  model = RandomForestClassifier(n_estimators=100, random_state=42)\n",
        "  model.fit(X_train, Y_train) #train data\n",
        "\n",
        "  Y_pred = model.predict(X_test) #to make prediction on test sets\n",
        "  print(\"mean squered error for main model\")\n",
        "  print(mean_squared_error(Y_test, Y_pred))\n",
        "\n",
        "  return model"
      ],
      "metadata": {
        "id": "IlnWcZlYs1_o"
      },
      "execution_count": null,
      "outputs": []
    },
    {
      "cell_type": "markdown",
      "source": [
        "5. Regression data"
      ],
      "metadata": {
        "id": "iAKGXi3wujjm"
      }
    },
    {
      "cell_type": "code",
      "source": [
        "def prepare_regression_data(data, feature):\n",
        " X, Y = [], [] #initiate list for feature and target values\n",
        " for i in range(len(data) - 1):\n",
        "  X.append(data[feature].iloc[i])\n",
        "  Y.append(data[feature].iloc[i+1])\n",
        "\n",
        "  X= np.array(X).reshape(-1, 1)\n",
        "  Y = np.array(Y)\n",
        "\n",
        "  return X, Y"
      ],
      "metadata": {
        "id": "o68pU-T0uncv"
      },
      "execution_count": null,
      "outputs": []
    },
    {
      "cell_type": "markdown",
      "source": [
        "6. Train Regression Model"
      ],
      "metadata": {
        "id": "7Nl0IJ2yLCM7"
      }
    },
    {
      "cell_type": "code",
      "source": [
        "def train_regression_model(X, Y):\n",
        "  model = RandomForestRegressor(n_estimators=100, random_state=42)\n",
        "  model.fit(X, Y)\n",
        "\n",
        "  return model"
      ],
      "metadata": {
        "id": "uH3q7iCZLFKh"
      },
      "execution_count": null,
      "outputs": []
    },
    {
      "cell_type": "markdown",
      "source": [
        "7. Predict future"
      ],
      "metadata": {
        "id": "bGjtwCnLNyw6"
      }
    },
    {
      "cell_type": "code",
      "source": [
        "def predict_future(model, current_value):\n",
        "  predictions = [current_value]\n",
        "\n",
        "  for i in range(5):\n",
        "    next_value = model.predict(np.array(predictions).reshape(-1, 1))\n",
        "    predictions.append(next_value[0])\n",
        "\n",
        "  return predictions[1:]"
      ],
      "metadata": {
        "id": "XZNS0HqBN2CJ"
      },
      "execution_count": null,
      "outputs": []
    },
    {
      "cell_type": "markdown",
      "source": [
        "7. Weather analysis function"
      ],
      "metadata": {
        "id": "bNDge5xEOPs6"
      }
    },
    {
      "cell_type": "code",
      "source": [
        "from re import X\n",
        "def weather_view():\n",
        "  city = input(\"Enter city name: \")\n",
        "  current_weather = get_current_weather(city)\n",
        "\n",
        "  #load historical data\n",
        "\n",
        "  historical_data = read_historical_data('/content/weather.csv')\n",
        "\n",
        "  #prepare and train rain prediction model\n",
        "\n",
        "  X, Y, le = prepare_data(historical_data)\n",
        "  rain_model = train_rain_model(X, Y)\n",
        "\n",
        "  #map wind direction to compass points\n",
        "\n",
        "  wind_deg = current_weather['WindGustDir'] % 360\n",
        "  compass_points = [\n",
        "    (\"N\", 348.75, 360), (\"N\", 0, 11.25),  # North appears in two ranges\n",
        "    (\"NNE\", 11.25, 33.75), (\"NE\", 33.75, 56.25), (\"ENE\", 56.25, 78.75),\n",
        "    (\"E\", 78.75, 101.25), (\"ESE\", 101.25, 123.75), (\"SE\", 123.75, 146.25),\n",
        "    (\"SSE\", 146.25, 168.75), (\"S\", 168.75, 191.25), (\"SSW\", 191.25, 213.75),\n",
        "    (\"SW\", 213.75, 236.25), (\"WSW\", 236.25, 258.75), (\"W\", 258.75, 281.25),\n",
        "    (\"WNW\", 281.25, 303.75), (\"NW\", 303.75, 326.25), (\"NNW\", 326.25, 348.75)\n",
        "]\n",
        "\n",
        "\n",
        "  compass_direction = next((point for point, start, end in compass_points if start <= wind_deg < end), \"N\")\n",
        "\n",
        "\n",
        "  compass_direction_encoded = le.transform([compass_direction])[0] if compass_direction in le.classes_ else -1\n",
        "\n",
        "\n",
        "\n",
        "\n",
        "\n",
        "\n",
        "  current_data = {\n",
        "      'MinTemp' : current_weather['temp_min'],\n",
        "      'MaxTemp' : current_weather['temp_max'],\n",
        "      'WindGustDir' : compass_direction_encoded,\n",
        "      'WindGustSpeed' : current_weather['WindGustDir'],\n",
        "      'Humidity' : current_weather['humidity'],\n",
        "      'Pressure' : current_weather['Pressure'],\n",
        "      'Temp' : current_weather['current_temp'],\n",
        "  }\n",
        "\n",
        "  current_df = pd.DataFrame([current_data])\n",
        "\n",
        "  #rain prediction\n",
        "\n",
        "  rain_prediction = rain_model.predict(current_df)[0]\n",
        "\n",
        "  #prepare regression model for temperatur and humidity\n",
        "\n",
        "  X_temp, Y_temp = prepare_regression_data(historical_data, 'Temp')\n",
        "\n",
        "  X_hum, Y_hum = prepare_regression_data(historical_data, 'Humidity')\n",
        "\n",
        "  temp_model = train_regression_model(X_temp, Y_temp)\n",
        "\n",
        "  hum_model = train_regression_model(X_hum, Y_hum)\n",
        "\n",
        "\n",
        "  #predict future temp. & humidity\n",
        "\n",
        "  future_temp = predict_future(temp_model, current_weather['current_temp'])\n",
        "\n",
        "  future_humidity = predict_future(hum_model, current_weather['humidity'])\n",
        "\n",
        "\n",
        "  #prepare time for future\n",
        "\n",
        "  timezone = pytz.timezone('Asia/Kolkata')\n",
        "  now = datetime.now(timezone)\n",
        "  next_hour = now + timedelta(hours=1)\n",
        "  now_hour = next_hour.replace(minute=0, second=0, microsecond=0)\n",
        "\n",
        "  future_times = [(next_hour + timedelta(hours=i)).strftime(\"%H:00\") for i in range(5)]\n",
        "\n",
        "  print(f\"city: {city}, {current_weather['country']}\")\n",
        "  print(f\"current temperature: {current_weather['current_temp']}°C\") #remove celcius later if code doesnt work\n",
        "  print(f\"Feels like: {current_weather['feels_like']}°C\")\n",
        "  print(f\"Minium Temperature: {current_weather['temp_min']}°C\")\n",
        "  print(f\"Maximum Temperature: {current_weather['temp_max']}°C\")\n",
        "  print(f\"Humidity: {current_weather['humidity']}%\")\n",
        "  print(f\"weather Prediction: {current_weather['description']}\")\n",
        "  print(f\"Rain prediction: {'Yes' if rain_prediction else 'No'}\")\n",
        "\n",
        "\n",
        "\n",
        "  print(\"\\nFuture Temperature Predictions\")\n",
        "\n",
        "  for time, temp in zip(future_times, future_temp):\n",
        "    print(f\"{time}: {round(temp, 1)}°C\")\n",
        "\n",
        "  print(\"\\nFuture Humidity Predictions\")\n",
        "\n",
        "  for time, humidity in zip(future_times, future_humidity):\n",
        "    print(f\"{time}: {round(humidity, 1)}%\")\n",
        "\n",
        "\n",
        "weather_view()"
      ],
      "metadata": {
        "colab": {
          "base_uri": "https://localhost:8080/"
        },
        "id": "2LI4kCxZOTFS",
        "outputId": "b50d6168-da70-4a4c-f944-c989adeca395"
      },
      "execution_count": null,
      "outputs": [
        {
          "output_type": "stream",
          "name": "stdout",
          "text": [
            "Enter city name: England\n",
            "mean squered error for main model\n",
            "0.16216216216216217\n",
            "city: England, US\n",
            "current temperature: 19°C\n",
            "Feels like: 20°C\n",
            "Minium Temperature: 19°C\n",
            "Maximum Temperature: 19°C\n",
            "Humidity: 95%\n",
            "weather Prediction: overcast clouds\n",
            "Rain prediction: Yes\n",
            "\n",
            "Future Temperature Predictions\n",
            "15:00: 25.7°C\n",
            "16:00: 25.7°C\n",
            "17:00: 25.7°C\n",
            "18:00: 25.7°C\n",
            "19:00: 25.7°C\n",
            "\n",
            "Future Humidity Predictions\n",
            "15:00: 36.0%\n",
            "16:00: 36.0%\n",
            "17:00: 36.0%\n",
            "18:00: 36.0%\n",
            "19:00: 36.0%\n"
          ]
        }
      ]
    },
    {
      "cell_type": "code",
      "source": [],
      "metadata": {
        "id": "a5Ytb9AJPqIG"
      },
      "execution_count": null,
      "outputs": []
    },
    {
      "cell_type": "markdown",
      "source": [],
      "metadata": {
        "id": "V7q26y5KN6Tl"
      }
    }
  ]
}